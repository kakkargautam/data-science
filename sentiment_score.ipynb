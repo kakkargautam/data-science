{
 "cells": [
  {
   "cell_type": "markdown",
   "metadata": {},
   "source": [
    "Introduction\n",
    "Code to get sentiment of sentence !!"
   ]
  },
  {
   "cell_type": "code",
   "execution_count": 12,
   "metadata": {},
   "outputs": [],
   "source": [
    "import pandas as pd\n",
    "from vaderSentiment.vaderSentiment import SentimentIntensityAnalyzer\n",
    "analyser = SentimentIntensityAnalyzer()"
   ]
  },
  {
   "cell_type": "code",
   "execution_count": 13,
   "metadata": {},
   "outputs": [
    {
     "name": "stdout",
     "output_type": "stream",
     "text": [
      "{'neg': 0.791, 'neu': 0.209, 'pos': 0.0, 'compound': -0.8211}\n",
      "{'neg': 0.0, 'neu': 0.091, 'pos': 0.909, 'compound': 0.9632}\n"
     ]
    }
   ],
   "source": [
    "scores =[]\n",
    "sentences = [\"A really bad, horrible book.\",\"A good, awesome, wonderful, cool book !!!  :) :)\"]\n",
    "\n",
    "for sentence in sentences:\n",
    "    score = analyser.polarity_scores(sentence)\n",
    "    scores.append(score)\n",
    "    print (score)\n"
   ]
  },
  {
   "cell_type": "code",
   "execution_count": 14,
   "metadata": {},
   "outputs": [
    {
     "name": "stdout",
     "output_type": "stream",
     "text": [
      "     neg    neu    pos  compound\n",
      "0  0.791  0.209  0.000   -0.8211\n",
      "1  0.000  0.091  0.909    0.9632\n"
     ]
    }
   ],
   "source": [
    "df= pd.DataFrame(scores)\n",
    "print (df)"
   ]
  }
 ],
 "metadata": {
  "kernelspec": {
   "display_name": "Python 3",
   "language": "python",
   "name": "python3"
  },
  "language_info": {
   "codemirror_mode": {
    "name": "ipython",
    "version": 3
   },
   "file_extension": ".py",
   "mimetype": "text/x-python",
   "name": "python",
   "nbconvert_exporter": "python",
   "pygments_lexer": "ipython3",
   "version": "3.7.4"
  }
 },
 "nbformat": 4,
 "nbformat_minor": 2
}
